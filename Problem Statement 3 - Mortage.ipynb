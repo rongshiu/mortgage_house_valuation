{
 "cells": [
  {
   "cell_type": "markdown",
   "metadata": {},
   "source": [
    "# Property Valuation Model"
   ]
  },
  {
   "cell_type": "raw",
   "metadata": {},
   "source": [
    "We will perform the steps below from the provided raw data to generate the prediction model.\n",
    "\n",
    "1) Loading & Preview Datasets \n",
    "2) Data Engineering & Handling Missing Values\n",
    "3) Feature Engineering \n",
    "4) Feature Analysis & Visualization \n",
    "5) Data Normalization\n",
    "6) Modeling \n",
    "7) Prediction"
   ]
  },
  {
   "cell_type": "code",
   "execution_count": 1,
   "metadata": {},
   "outputs": [],
   "source": [
    "# data engineering\n",
    "import pandas as pd\n",
    "import datetime\n",
    "import numpy as np\n",
    "\n",
    "# visualization\n",
    "import matplotlib.pyplot as plt\n",
    "import seaborn as sns\n",
    "%matplotlib inline\n",
    "\n",
    "# preprocessing\n",
    "from sklearn import preprocessing\n",
    "from sklearn.preprocessing import RobustScaler\n",
    "from scipy import stats\n",
    "from scipy.stats import norm, skew\n",
    "from scipy.special import boxcox1p\n",
    "from sklearn.pipeline import make_pipeline\n",
    "\n",
    "# machine learning\n",
    "from sklearn.linear_model import LinearRegression,ElasticNet, Lasso, Ridge, LassoLarsIC\n",
    "from sklearn.ensemble import RandomForestRegressor, GradientBoostingRegressor, AdaBoostClassifier, VotingClassifier\n",
    "from sklearn.kernel_ridge import KernelRidge\n",
    "import xgboost as xgb\n",
    "import lightgbm as lgb\n",
    "from sklearn.model_selection import KFold,GridSearchCV,cross_val_score,learning_curve,StratifiedKFold,cross_val_predict,train_test_split\n",
    "from sklearn.base import BaseEstimator, TransformerMixin, RegressorMixin, clone\n",
    "from sklearn.metrics import mean_squared_error\n",
    "\n",
    "#Hide Warning Messages\n",
    "import warnings\n",
    "warnings.filterwarnings('ignore')"
   ]
  },
  {
   "cell_type": "markdown",
   "metadata": {},
   "source": [
    "# Loading & Preview Datasets"
   ]
  },
  {
   "cell_type": "code",
   "execution_count": 2,
   "metadata": {},
   "outputs": [
    {
     "data": {
      "text/html": [
       "<div>\n",
       "<style scoped>\n",
       "    .dataframe tbody tr th:only-of-type {\n",
       "        vertical-align: middle;\n",
       "    }\n",
       "\n",
       "    .dataframe tbody tr th {\n",
       "        vertical-align: top;\n",
       "    }\n",
       "\n",
       "    .dataframe thead th {\n",
       "        text-align: right;\n",
       "    }\n",
       "</style>\n",
       "<table border=\"1\" class=\"dataframe\">\n",
       "  <thead>\n",
       "    <tr style=\"text-align: right;\">\n",
       "      <th></th>\n",
       "      <th>Application_Number</th>\n",
       "      <th>Disbursement_Manner</th>\n",
       "      <th>Submission_Mth</th>\n",
       "      <th>MG_OMV</th>\n",
       "      <th>MG_SnP</th>\n",
       "      <th>highest_MG_SnP_OMV</th>\n",
       "      <th>Free_Lease_Hold_Ind</th>\n",
       "      <th>Status_Of_Completion</th>\n",
       "      <th>Stage_Of_Completion</th>\n",
       "      <th>Title_Type</th>\n",
       "      <th>...</th>\n",
       "      <th>Land_Area</th>\n",
       "      <th>Land_Area_Unit</th>\n",
       "      <th>Property_Address</th>\n",
       "      <th>Postcode</th>\n",
       "      <th>Property_State</th>\n",
       "      <th>City_Nm</th>\n",
       "      <th>Property_Description</th>\n",
       "      <th>Property_Type</th>\n",
       "      <th>Residential_Type</th>\n",
       "      <th>Landed_Type</th>\n",
       "    </tr>\n",
       "  </thead>\n",
       "  <tbody>\n",
       "    <tr>\n",
       "      <th>0</th>\n",
       "      <td>20114</td>\n",
       "      <td>PR</td>\n",
       "      <td>2018-03</td>\n",
       "      <td>364700.0</td>\n",
       "      <td>364700.0</td>\n",
       "      <td>364700.0</td>\n",
       "      <td>L</td>\n",
       "      <td>UC</td>\n",
       "      <td>0.0</td>\n",
       "      <td>M</td>\n",
       "      <td>...</td>\n",
       "      <td>0.0</td>\n",
       "      <td>NaN</td>\n",
       "      <td>Block C (Cosmo),The Zizz @ Damansara North, Da...</td>\n",
       "      <td>47830</td>\n",
       "      <td>SELANGOR</td>\n",
       "      <td>Petaling Jaya</td>\n",
       "      <td>APARTMENT UNIT(S)</td>\n",
       "      <td>Apartment</td>\n",
       "      <td>1. Residential</td>\n",
       "      <td>Non-Landed</td>\n",
       "    </tr>\n",
       "    <tr>\n",
       "      <th>1</th>\n",
       "      <td>80800</td>\n",
       "      <td>LS</td>\n",
       "      <td>2018-03</td>\n",
       "      <td>1452000.0</td>\n",
       "      <td>1102000.0</td>\n",
       "      <td>1452000.0</td>\n",
       "      <td>F</td>\n",
       "      <td>CO</td>\n",
       "      <td>100.0</td>\n",
       "      <td>I</td>\n",
       "      <td>...</td>\n",
       "      <td>220.0</td>\n",
       "      <td>F</td>\n",
       "      <td>JALAN ADDA 6/16,TAMAN ADDA HEIGHTS</td>\n",
       "      <td>81100</td>\n",
       "      <td>JOHOR</td>\n",
       "      <td>Johor Bahru</td>\n",
       "      <td>DOUBLE, SEMI-D HSE</td>\n",
       "      <td>Semi-Detached</td>\n",
       "      <td>1. Residential</td>\n",
       "      <td>Landed</td>\n",
       "    </tr>\n",
       "    <tr>\n",
       "      <th>2</th>\n",
       "      <td>38786</td>\n",
       "      <td>PR</td>\n",
       "      <td>2018-01</td>\n",
       "      <td>698000.0</td>\n",
       "      <td>698000.0</td>\n",
       "      <td>698000.0</td>\n",
       "      <td>L</td>\n",
       "      <td>UC</td>\n",
       "      <td>0.0</td>\n",
       "      <td>M</td>\n",
       "      <td>...</td>\n",
       "      <td>0.0</td>\n",
       "      <td>NaN</td>\n",
       "      <td>Type B2,Parc 3 @ KL South</td>\n",
       "      <td>55300</td>\n",
       "      <td>W.P KUALA LUMPUR</td>\n",
       "      <td>Kuala Lumpur</td>\n",
       "      <td>APARTMENT UNIT(S)</td>\n",
       "      <td>Apartment</td>\n",
       "      <td>1. Residential</td>\n",
       "      <td>Non-Landed</td>\n",
       "    </tr>\n",
       "    <tr>\n",
       "      <th>3</th>\n",
       "      <td>155116</td>\n",
       "      <td>LS</td>\n",
       "      <td>2019-12</td>\n",
       "      <td>190000.0</td>\n",
       "      <td>190000.0</td>\n",
       "      <td>190000.0</td>\n",
       "      <td>F</td>\n",
       "      <td>CO</td>\n",
       "      <td>100.0</td>\n",
       "      <td>S</td>\n",
       "      <td>...</td>\n",
       "      <td>0.0</td>\n",
       "      <td>NaN</td>\n",
       "      <td>SOLOK SEMARAK API,BANDAR BARU AYER ITAM</td>\n",
       "      <td>11500</td>\n",
       "      <td>Pulau Pinang</td>\n",
       "      <td>AYER ITAM</td>\n",
       "      <td>Flat</td>\n",
       "      <td>Flat</td>\n",
       "      <td>1. Residential</td>\n",
       "      <td>Non-Landed</td>\n",
       "    </tr>\n",
       "    <tr>\n",
       "      <th>4</th>\n",
       "      <td>50826</td>\n",
       "      <td>PR</td>\n",
       "      <td>2017-07</td>\n",
       "      <td>600400.0</td>\n",
       "      <td>600400.0</td>\n",
       "      <td>600400.0</td>\n",
       "      <td>L</td>\n",
       "      <td>UC</td>\n",
       "      <td>50.0</td>\n",
       "      <td>M</td>\n",
       "      <td>...</td>\n",
       "      <td>0.0</td>\n",
       "      <td>NaN</td>\n",
       "      <td>level no.6 of tower no.2 ,Vermont Suites Condo...</td>\n",
       "      <td>93350</td>\n",
       "      <td>SARAWAK</td>\n",
       "      <td>Kuching</td>\n",
       "      <td>CONDOMINIUM UNIT(S)</td>\n",
       "      <td>Condominium</td>\n",
       "      <td>1. Residential</td>\n",
       "      <td>Non-Landed</td>\n",
       "    </tr>\n",
       "  </tbody>\n",
       "</table>\n",
       "<p>5 rows × 22 columns</p>\n",
       "</div>"
      ],
      "text/plain": [
       "   Application_Number Disbursement_Manner Submission_Mth     MG_OMV  \\\n",
       "0               20114               PR           2018-03   364700.0   \n",
       "1               80800               LS           2018-03  1452000.0   \n",
       "2               38786               PR           2018-01   698000.0   \n",
       "3              155116               LS           2019-12   190000.0   \n",
       "4               50826               PR           2017-07   600400.0   \n",
       "\n",
       "      MG_SnP  highest_MG_SnP_OMV Free_Lease_Hold_Ind Status_Of_Completion  \\\n",
       "0   364700.0            364700.0                   L                   UC   \n",
       "1  1102000.0           1452000.0                   F                   CO   \n",
       "2   698000.0            698000.0                   L                   UC   \n",
       "3   190000.0            190000.0                   F                   CO   \n",
       "4   600400.0            600400.0                   L                   UC   \n",
       "\n",
       "   Stage_Of_Completion Title_Type  ...  Land_Area Land_Area_Unit  \\\n",
       "0                  0.0          M  ...        0.0            NaN   \n",
       "1                100.0          I  ...      220.0          F       \n",
       "2                  0.0          M  ...        0.0            NaN   \n",
       "3                100.0          S  ...        0.0            NaN   \n",
       "4                 50.0          M  ...        0.0            NaN   \n",
       "\n",
       "                                    Property_Address Postcode  \\\n",
       "0  Block C (Cosmo),The Zizz @ Damansara North, Da...    47830   \n",
       "1                 JALAN ADDA 6/16,TAMAN ADDA HEIGHTS    81100   \n",
       "2                          Type B2,Parc 3 @ KL South    55300   \n",
       "3            SOLOK SEMARAK API,BANDAR BARU AYER ITAM    11500   \n",
       "4  level no.6 of tower no.2 ,Vermont Suites Condo...    93350   \n",
       "\n",
       "     Property_State        City_Nm Property_Description  Property_Type  \\\n",
       "0          SELANGOR  Petaling Jaya    APARTMENT UNIT(S)      Apartment   \n",
       "1             JOHOR    Johor Bahru   DOUBLE, SEMI-D HSE  Semi-Detached   \n",
       "2  W.P KUALA LUMPUR   Kuala Lumpur    APARTMENT UNIT(S)      Apartment   \n",
       "3      Pulau Pinang      AYER ITAM                 Flat           Flat   \n",
       "4           SARAWAK        Kuching  CONDOMINIUM UNIT(S)    Condominium   \n",
       "\n",
       "  Residential_Type Landed_Type  \n",
       "0   1. Residential  Non-Landed  \n",
       "1   1. Residential      Landed  \n",
       "2   1. Residential  Non-Landed  \n",
       "3   1. Residential  Non-Landed  \n",
       "4   1. Residential  Non-Landed  \n",
       "\n",
       "[5 rows x 22 columns]"
      ]
     },
     "execution_count": 2,
     "metadata": {},
     "output_type": "execute_result"
    }
   ],
   "source": [
    "#read raw data and preview top 5 rows\n",
    "df=pd.read_csv(r'C:\\Users\\rongshiu\\Desktop\\Python\\dataset.csv')\n",
    "df.head()"
   ]
  },
  {
   "cell_type": "code",
   "execution_count": 3,
   "metadata": {},
   "outputs": [
    {
     "name": "stdout",
     "output_type": "stream",
     "text": [
      "<class 'pandas.core.frame.DataFrame'>\n",
      "RangeIndex: 135766 entries, 0 to 135765\n",
      "Data columns (total 22 columns):\n",
      " #   Column                Non-Null Count   Dtype  \n",
      "---  ------                --------------   -----  \n",
      " 0   Application_Number    135766 non-null  int64  \n",
      " 1   Disbursement_Manner   135766 non-null  object \n",
      " 2   Submission_Mth        135766 non-null  object \n",
      " 3   MG_OMV                135766 non-null  float64\n",
      " 4   MG_SnP                130578 non-null  float64\n",
      " 5   highest_MG_SnP_OMV    135766 non-null  float64\n",
      " 6   Free_Lease_Hold_Ind   135762 non-null  object \n",
      " 7   Status_Of_Completion  135766 non-null  object \n",
      " 8   Stage_Of_Completion   135759 non-null  float64\n",
      " 9   Title_Type            135581 non-null  object \n",
      " 10  Build_Up_Area         134396 non-null  float64\n",
      " 11  Build_Up_Area_Unit    91372 non-null   object \n",
      " 12  Land_Area             135766 non-null  float64\n",
      " 13  Land_Area_Unit        69133 non-null   object \n",
      " 14  Property_Address      135761 non-null  object \n",
      " 15  Postcode              135766 non-null  object \n",
      " 16  Property_State        135765 non-null  object \n",
      " 17  City_Nm               135734 non-null  object \n",
      " 18  Property_Description  135766 non-null  object \n",
      " 19  Property_Type         135766 non-null  object \n",
      " 20  Residential_Type      135766 non-null  object \n",
      " 21  Landed_Type           135766 non-null  object \n",
      "dtypes: float64(6), int64(1), object(15)\n",
      "memory usage: 22.8+ MB\n"
     ]
    }
   ],
   "source": [
    "#check for dtypes and missing values in dataframes\n",
    "df.info()"
   ]
  },
  {
   "cell_type": "code",
   "execution_count": 4,
   "metadata": {},
   "outputs": [
    {
     "data": {
      "text/html": [
       "<div>\n",
       "<style scoped>\n",
       "    .dataframe tbody tr th:only-of-type {\n",
       "        vertical-align: middle;\n",
       "    }\n",
       "\n",
       "    .dataframe tbody tr th {\n",
       "        vertical-align: top;\n",
       "    }\n",
       "\n",
       "    .dataframe thead th {\n",
       "        text-align: right;\n",
       "    }\n",
       "</style>\n",
       "<table border=\"1\" class=\"dataframe\">\n",
       "  <thead>\n",
       "    <tr style=\"text-align: right;\">\n",
       "      <th></th>\n",
       "      <th>Missing Ratio</th>\n",
       "    </tr>\n",
       "  </thead>\n",
       "  <tbody>\n",
       "    <tr>\n",
       "      <th>Land_Area_Unit</th>\n",
       "      <td>49.079298</td>\n",
       "    </tr>\n",
       "    <tr>\n",
       "      <th>Build_Up_Area_Unit</th>\n",
       "      <td>32.698908</td>\n",
       "    </tr>\n",
       "    <tr>\n",
       "      <th>MG_SnP</th>\n",
       "      <td>3.821281</td>\n",
       "    </tr>\n",
       "    <tr>\n",
       "      <th>Build_Up_Area</th>\n",
       "      <td>1.009089</td>\n",
       "    </tr>\n",
       "    <tr>\n",
       "      <th>Title_Type</th>\n",
       "      <td>0.136264</td>\n",
       "    </tr>\n",
       "    <tr>\n",
       "      <th>City_Nm</th>\n",
       "      <td>0.023570</td>\n",
       "    </tr>\n",
       "    <tr>\n",
       "      <th>Stage_Of_Completion</th>\n",
       "      <td>0.005156</td>\n",
       "    </tr>\n",
       "    <tr>\n",
       "      <th>Property_Address</th>\n",
       "      <td>0.003683</td>\n",
       "    </tr>\n",
       "    <tr>\n",
       "      <th>Free_Lease_Hold_Ind</th>\n",
       "      <td>0.002946</td>\n",
       "    </tr>\n",
       "    <tr>\n",
       "      <th>Property_State</th>\n",
       "      <td>0.000737</td>\n",
       "    </tr>\n",
       "  </tbody>\n",
       "</table>\n",
       "</div>"
      ],
      "text/plain": [
       "                     Missing Ratio\n",
       "Land_Area_Unit           49.079298\n",
       "Build_Up_Area_Unit       32.698908\n",
       "MG_SnP                    3.821281\n",
       "Build_Up_Area             1.009089\n",
       "Title_Type                0.136264\n",
       "City_Nm                   0.023570\n",
       "Stage_Of_Completion       0.005156\n",
       "Property_Address          0.003683\n",
       "Free_Lease_Hold_Ind       0.002946\n",
       "Property_State            0.000737"
      ]
     },
     "execution_count": 4,
     "metadata": {},
     "output_type": "execute_result"
    }
   ],
   "source": [
    "#compute percentage of missing values\n",
    "df_na = (df.isnull().sum() / len(df)) * 100\n",
    "df_na = df_na.drop(df_na[df_na == 0].index).sort_values(ascending=False)[:30]\n",
    "missing_data = pd.DataFrame({'Missing Ratio' :df_na})\n",
    "missing_data.head(20)"
   ]
  },
  {
   "cell_type": "code",
   "execution_count": 5,
   "metadata": {},
   "outputs": [
    {
     "data": {
      "text/plain": [
       "Text(0.5, 1.0, 'Percent missing data by feature')"
      ]
     },
     "execution_count": 5,
     "metadata": {},
     "output_type": "execute_result"
    },
    {
     "data": {
      "image/png": "[encoded data removed]",
      "text/plain": [
       "<Figure size 576x576 with 1 Axes>"
      ]
     },
     "metadata": {
      "needs_background": "light"
     },
     "output_type": "display_data"
    }
   ],
   "source": [
    "#Visualize percentage of missing values\n",
    "f, ax = plt.subplots(figsize=(8, 8))\n",
    "plt.xticks(rotation='90')\n",
    "sns.barplot(x=df_na.index, y=df_na)\n",
    "plt.xlabel('Features', fontsize=15)\n",
    "plt.ylabel('Percent of missing values', fontsize=15)\n",
    "plt.title('Percent missing data by feature', fontsize=15)"
   ]
  },
  {
   "cell_type": "code",
   "execution_count": 6,
   "metadata": {},
   "outputs": [
    {
     "data": {
      "text/html": [
       "<div>\n",
       "<style scoped>\n",
       "    .dataframe tbody tr th:only-of-type {\n",
       "        vertical-align: middle;\n",
       "    }\n",
       "\n",
       "    .dataframe tbody tr th {\n",
       "        vertical-align: top;\n",
       "    }\n",
       "\n",
       "    .dataframe thead th {\n",
       "        text-align: right;\n",
       "    }\n",
       "</style>\n",
       "<table border=\"1\" class=\"dataframe\">\n",
       "  <thead>\n",
       "    <tr style=\"text-align: right;\">\n",
       "      <th></th>\n",
       "      <th>Application_Number</th>\n",
       "      <th>MG_OMV</th>\n",
       "      <th>MG_SnP</th>\n",
       "      <th>highest_MG_SnP_OMV</th>\n",
       "      <th>Stage_Of_Completion</th>\n",
       "      <th>Build_Up_Area</th>\n",
       "      <th>Land_Area</th>\n",
       "    </tr>\n",
       "  </thead>\n",
       "  <tbody>\n",
       "    <tr>\n",
       "      <th>count</th>\n",
       "      <td>135766.000000</td>\n",
       "      <td>1.357660e+05</td>\n",
       "      <td>1.305780e+05</td>\n",
       "      <td>1.357660e+05</td>\n",
       "      <td>135759.00000</td>\n",
       "      <td>1.343960e+05</td>\n",
       "      <td>135766.000000</td>\n",
       "    </tr>\n",
       "    <tr>\n",
       "      <th>mean</th>\n",
       "      <td>90734.861151</td>\n",
       "      <td>4.167855e+05</td>\n",
       "      <td>5.672425e+05</td>\n",
       "      <td>5.733333e+05</td>\n",
       "      <td>62.81347</td>\n",
       "      <td>9.959073e+02</td>\n",
       "      <td>168.430148</td>\n",
       "    </tr>\n",
       "    <tr>\n",
       "      <th>std</th>\n",
       "      <td>53766.582357</td>\n",
       "      <td>5.224686e+05</td>\n",
       "      <td>5.132360e+05</td>\n",
       "      <td>5.326654e+05</td>\n",
       "      <td>43.70767</td>\n",
       "      <td>1.036639e+04</td>\n",
       "      <td>265.140886</td>\n",
       "    </tr>\n",
       "    <tr>\n",
       "      <th>min</th>\n",
       "      <td>1.000000</td>\n",
       "      <td>0.000000e+00</td>\n",
       "      <td>2.200000e+04</td>\n",
       "      <td>0.000000e+00</td>\n",
       "      <td>0.00000</td>\n",
       "      <td>0.000000e+00</td>\n",
       "      <td>0.000000</td>\n",
       "    </tr>\n",
       "    <tr>\n",
       "      <th>25%</th>\n",
       "      <td>44149.250000</td>\n",
       "      <td>5.700000e+04</td>\n",
       "      <td>3.020000e+05</td>\n",
       "      <td>3.088595e+05</td>\n",
       "      <td>10.00000</td>\n",
       "      <td>0.000000e+00</td>\n",
       "      <td>0.000000</td>\n",
       "    </tr>\n",
       "    <tr>\n",
       "      <th>50%</th>\n",
       "      <td>88959.500000</td>\n",
       "      <td>3.470000e+05</td>\n",
       "      <td>4.720000e+05</td>\n",
       "      <td>4.768000e+05</td>\n",
       "      <td>100.00000</td>\n",
       "      <td>8.580000e+02</td>\n",
       "      <td>80.040000</td>\n",
       "    </tr>\n",
       "    <tr>\n",
       "      <th>75%</th>\n",
       "      <td>137107.750000</td>\n",
       "      <td>5.630000e+05</td>\n",
       "      <td>6.609000e+05</td>\n",
       "      <td>6.630000e+05</td>\n",
       "      <td>100.00000</td>\n",
       "      <td>1.228000e+03</td>\n",
       "      <td>292.150000</td>\n",
       "    </tr>\n",
       "    <tr>\n",
       "      <th>max</th>\n",
       "      <td>186389.000000</td>\n",
       "      <td>2.980200e+07</td>\n",
       "      <td>4.800200e+07</td>\n",
       "      <td>4.800200e+07</td>\n",
       "      <td>100.00000</td>\n",
       "      <td>2.767168e+06</td>\n",
       "      <td>20979.020000</td>\n",
       "    </tr>\n",
       "  </tbody>\n",
       "</table>\n",
       "</div>"
      ],
      "text/plain": [
       "       Application_Number        MG_OMV        MG_SnP  highest_MG_SnP_OMV  \\\n",
       "count       135766.000000  1.357660e+05  1.305780e+05        1.357660e+05   \n",
       "mean         90734.861151  4.167855e+05  5.672425e+05        5.733333e+05   \n",
       "std          53766.582357  5.224686e+05  5.132360e+05        5.326654e+05   \n",
       "min              1.000000  0.000000e+00  2.200000e+04        0.000000e+00   \n",
       "25%          44149.250000  5.700000e+04  3.020000e+05        3.088595e+05   \n",
       "50%          88959.500000  3.470000e+05  4.720000e+05        4.768000e+05   \n",
       "75%         137107.750000  5.630000e+05  6.609000e+05        6.630000e+05   \n",
       "max         186389.000000  2.980200e+07  4.800200e+07        4.800200e+07   \n",
       "\n",
       "       Stage_Of_Completion  Build_Up_Area      Land_Area  \n",
       "count         135759.00000   1.343960e+05  135766.000000  \n",
       "mean              62.81347   9.959073e+02     168.430148  \n",
       "std               43.70767   1.036639e+04     265.140886  \n",
       "min                0.00000   0.000000e+00       0.000000  \n",
       "25%               10.00000   0.000000e+00       0.000000  \n",
       "50%              100.00000   8.580000e+02      80.040000  \n",
       "75%              100.00000   1.228000e+03     292.150000  \n",
       "max              100.00000   2.767168e+06   20979.020000  "
      ]
     },
     "execution_count": 6,
     "metadata": {},
     "output_type": "execute_result"
    }
   ],
   "source": [
    "#summarize numerical columns\n",
    "df.describe()"
   ]
  },
  {
   "cell_type": "code",
   "execution_count": 7,
   "metadata": {},
   "outputs": [
    {
     "data": {
      "text/html": [
       "<div>\n",
       "<style scoped>\n",
       "    .dataframe tbody tr th:only-of-type {\n",
       "        vertical-align: middle;\n",
       "    }\n",
       "\n",
       "    .dataframe tbody tr th {\n",
       "        vertical-align: top;\n",
       "    }\n",
       "\n",
       "    .dataframe thead th {\n",
       "        text-align: right;\n",
       "    }\n",
       "</style>\n",
       "<table border=\"1\" class=\"dataframe\">\n",
       "  <thead>\n",
       "    <tr style=\"text-align: right;\">\n",
       "      <th></th>\n",
       "      <th>Disbursement_Manner</th>\n",
       "      <th>Submission_Mth</th>\n",
       "      <th>Free_Lease_Hold_Ind</th>\n",
       "      <th>Status_Of_Completion</th>\n",
       "      <th>Title_Type</th>\n",
       "      <th>Build_Up_Area_Unit</th>\n",
       "      <th>Land_Area_Unit</th>\n",
       "      <th>Property_Address</th>\n",
       "      <th>Postcode</th>\n",
       "      <th>Property_State</th>\n",
       "      <th>City_Nm</th>\n",
       "      <th>Property_Description</th>\n",
       "      <th>Property_Type</th>\n",
       "      <th>Residential_Type</th>\n",
       "      <th>Landed_Type</th>\n",
       "    </tr>\n",
       "  </thead>\n",
       "  <tbody>\n",
       "    <tr>\n",
       "      <th>count</th>\n",
       "      <td>135766</td>\n",
       "      <td>135766</td>\n",
       "      <td>135762</td>\n",
       "      <td>135766</td>\n",
       "      <td>135581</td>\n",
       "      <td>91372</td>\n",
       "      <td>69133</td>\n",
       "      <td>135761</td>\n",
       "      <td>135766</td>\n",
       "      <td>135765</td>\n",
       "      <td>135734</td>\n",
       "      <td>135766</td>\n",
       "      <td>135766</td>\n",
       "      <td>135766</td>\n",
       "      <td>135766</td>\n",
       "    </tr>\n",
       "    <tr>\n",
       "      <th>unique</th>\n",
       "      <td>2</td>\n",
       "      <td>36</td>\n",
       "      <td>3</td>\n",
       "      <td>2</td>\n",
       "      <td>3</td>\n",
       "      <td>1</td>\n",
       "      <td>1</td>\n",
       "      <td>74641</td>\n",
       "      <td>1212</td>\n",
       "      <td>30</td>\n",
       "      <td>939</td>\n",
       "      <td>97</td>\n",
       "      <td>13</td>\n",
       "      <td>2</td>\n",
       "      <td>2</td>\n",
       "    </tr>\n",
       "    <tr>\n",
       "      <th>top</th>\n",
       "      <td>LS</td>\n",
       "      <td>2019-05</td>\n",
       "      <td>F</td>\n",
       "      <td>CO</td>\n",
       "      <td>M</td>\n",
       "      <td>False</td>\n",
       "      <td>F</td>\n",
       "      <td>Razak City Residences - Phase 1, 2 &amp; 3</td>\n",
       "      <td>81300</td>\n",
       "      <td>Selangor</td>\n",
       "      <td>KUALA LUMPUR</td>\n",
       "      <td>APARTMENT UNIT(S)</td>\n",
       "      <td>Terrace House</td>\n",
       "      <td>1. Residential</td>\n",
       "      <td>Landed</td>\n",
       "    </tr>\n",
       "    <tr>\n",
       "      <th>freq</th>\n",
       "      <td>74535</td>\n",
       "      <td>5346</td>\n",
       "      <td>92208</td>\n",
       "      <td>74159</td>\n",
       "      <td>62173</td>\n",
       "      <td>91372</td>\n",
       "      <td>69133</td>\n",
       "      <td>1192</td>\n",
       "      <td>4476</td>\n",
       "      <td>24078</td>\n",
       "      <td>13097</td>\n",
       "      <td>21533</td>\n",
       "      <td>55960</td>\n",
       "      <td>130399</td>\n",
       "      <td>70518</td>\n",
       "    </tr>\n",
       "  </tbody>\n",
       "</table>\n",
       "</div>"
      ],
      "text/plain": [
       "       Disbursement_Manner Submission_Mth Free_Lease_Hold_Ind  \\\n",
       "count               135766         135766              135762   \n",
       "unique                   2             36                   3   \n",
       "top                  LS           2019-05                   F   \n",
       "freq                 74535           5346               92208   \n",
       "\n",
       "       Status_Of_Completion Title_Type Build_Up_Area_Unit Land_Area_Unit  \\\n",
       "count                135766     135581              91372          69133   \n",
       "unique                    2          3                  1              1   \n",
       "top                      CO          M              False          F       \n",
       "freq                  74159      62173              91372          69133   \n",
       "\n",
       "                              Property_Address Postcode Property_State  \\\n",
       "count                                   135761   135766         135765   \n",
       "unique                                   74641     1212             30   \n",
       "top     Razak City Residences - Phase 1, 2 & 3    81300       Selangor   \n",
       "freq                                      1192     4476          24078   \n",
       "\n",
       "             City_Nm Property_Description  Property_Type Residential_Type  \\\n",
       "count         135734               135766         135766           135766   \n",
       "unique           939                   97             13                2   \n",
       "top     KUALA LUMPUR    APARTMENT UNIT(S)  Terrace House   1. Residential   \n",
       "freq           13097                21533          55960           130399   \n",
       "\n",
       "       Landed_Type  \n",
       "count       135766  \n",
       "unique           2  \n",
       "top         Landed  \n",
       "freq         70518  "
      ]
     },
     "execution_count": 7,
     "metadata": {},
     "output_type": "execute_result"
    }
   ],
   "source": [
    "#summarize non-numerical columns\n",
    "df.describe(include=['O'])"
   ]
  },
  {
   "cell_type": "markdown",
   "metadata": {},
   "source": [
    "# Data Engineering & Handling Missing Values"
   ]
  },
  {
   "cell_type": "code",
   "execution_count": 8,
   "metadata": {},
   "outputs": [],
   "source": [
    "#standardize upper and lower cases for city and state\n",
    "df['Property_State']=df['Property_State'].str.upper()\n",
    "df['City_Nm']=df['City_Nm'].str.upper()\n",
    "\n",
    "#def function for postcode,state & city name cleanup\n",
    "def process_postcode(postcode):\n",
    "    if str(postcode)=='nan':\n",
    "        return None\n",
    "    try:\n",
    "        x=int(postcode)\n",
    "        if x==0:\n",
    "            return None\n",
    "        return x\n",
    "    except:\n",
    "        return None\n",
    "    \n",
    "def process_state_or_city(state_or_city):\n",
    "    if str(state_or_city)=='nan':\n",
    "        return None\n",
    "    try:\n",
    "        int(state_or_city)\n",
    "        return None\n",
    "    except:\n",
    "        return str(state_or_city)\n",
    "\n",
    "#apply function to process postcode,state & city\n",
    "df['Postcode_processed']=df['Postcode'].apply(lambda x: process_postcode(x))\n",
    "df['Property_State_processed']=df['Property_State'].apply(lambda x: process_state_or_city(x))\n",
    "df['City_Nm_processed']=df['City_Nm'].apply(lambda x: process_state_or_city(x))"
   ]
  },
  {
   "cell_type": "code",
   "execution_count": 9,
   "metadata": {},
   "outputs": [
    {
     "name": "stdout",
     "output_type": "stream",
     "text": [
      "<class 'pandas.core.frame.DataFrame'>\n",
      "RangeIndex: 135766 entries, 0 to 135765\n",
      "Data columns (total 25 columns):\n",
      " #   Column                    Non-Null Count   Dtype  \n",
      "---  ------                    --------------   -----  \n",
      " 0   Application_Number        135766 non-null  int64  \n",
      " 1   Disbursement_Manner       135766 non-null  object \n",
      " 2   Submission_Mth            135766 non-null  object \n",
      " 3   MG_OMV                    135766 non-null  float64\n",
      " 4   MG_SnP                    130578 non-null  float64\n",
      " 5   highest_MG_SnP_OMV        135766 non-null  float64\n",
      " 6   Free_Lease_Hold_Ind       135762 non-null  object \n",
      " 7   Status_Of_Completion      135766 non-null  object \n",
      " 8   Stage_Of_Completion       135759 non-null  float64\n",
      " 9   Title_Type                135581 non-null  object \n",
      " 10  Build_Up_Area             134396 non-null  float64\n",
      " 11  Build_Up_Area_Unit        91372 non-null   object \n",
      " 12  Land_Area                 135766 non-null  float64\n",
      " 13  Land_Area_Unit            69133 non-null   object \n",
      " 14  Property_Address          135761 non-null  object \n",
      " 15  Postcode                  135766 non-null  object \n",
      " 16  Property_State            135765 non-null  object \n",
      " 17  City_Nm                   135734 non-null  object \n",
      " 18  Property_Description      135766 non-null  object \n",
      " 19  Property_Type             135766 non-null  object \n",
      " 20  Residential_Type          135766 non-null  object \n",
      " 21  Landed_Type               135766 non-null  object \n",
      " 22  Postcode_processed        132838 non-null  float64\n",
      " 23  Property_State_processed  135765 non-null  object \n",
      " 24  City_Nm_processed         135721 non-null  object \n",
      "dtypes: float64(7), int64(1), object(17)\n",
      "memory usage: 25.9+ MB\n"
     ]
    }
   ],
   "source": [
    "df.info()"
   ]
  },
  {
   "cell_type": "code",
   "execution_count": 10,
   "metadata": {},
   "outputs": [
    {
     "data": {
      "text/html": [
       "<div>\n",
       "<style scoped>\n",
       "    .dataframe tbody tr th:only-of-type {\n",
       "        vertical-align: middle;\n",
       "    }\n",
       "\n",
       "    .dataframe tbody tr th {\n",
       "        vertical-align: top;\n",
       "    }\n",
       "\n",
       "    .dataframe thead th {\n",
       "        text-align: right;\n",
       "    }\n",
       "</style>\n",
       "<table border=\"1\" class=\"dataframe\">\n",
       "  <thead>\n",
       "    <tr style=\"text-align: right;\">\n",
       "      <th></th>\n",
       "      <th>Application_Number</th>\n",
       "      <th>Disbursement_Manner</th>\n",
       "      <th>Submission_Mth</th>\n",
       "      <th>MG_OMV</th>\n",
       "      <th>MG_SnP</th>\n",
       "      <th>highest_MG_SnP_OMV</th>\n",
       "      <th>Free_Lease_Hold_Ind</th>\n",
       "      <th>Status_Of_Completion</th>\n",
       "      <th>Stage_Of_Completion</th>\n",
       "      <th>Title_Type</th>\n",
       "      <th>...</th>\n",
       "      <th>Postcode</th>\n",
       "      <th>Property_State</th>\n",
       "      <th>City_Nm</th>\n",
       "      <th>Property_Description</th>\n",
       "      <th>Property_Type</th>\n",
       "      <th>Residential_Type</th>\n",
       "      <th>Landed_Type</th>\n",
       "      <th>Postcode_processed</th>\n",
       "      <th>Property_State_processed</th>\n",
       "      <th>City_Nm_processed</th>\n",
       "    </tr>\n",
       "  </thead>\n",
       "  <tbody>\n",
       "    <tr>\n",
       "      <th>33911</th>\n",
       "      <td>8249</td>\n",
       "      <td>LS</td>\n",
       "      <td>2018-04</td>\n",
       "      <td>247000.0</td>\n",
       "      <td>127000.0</td>\n",
       "      <td>247000.0</td>\n",
       "      <td>L</td>\n",
       "      <td>CO</td>\n",
       "      <td>100.0</td>\n",
       "      <td>M</td>\n",
       "      <td>...</td>\n",
       "      <td>47820</td>\n",
       "      <td>NaN</td>\n",
       "      <td>PETALING JAYA</td>\n",
       "      <td>APARTMENT UNIT(S)</td>\n",
       "      <td>Apartment</td>\n",
       "      <td>1. Residential</td>\n",
       "      <td>Non-Landed</td>\n",
       "      <td>47820.0</td>\n",
       "      <td>None</td>\n",
       "      <td>PETALING JAYA</td>\n",
       "    </tr>\n",
       "  </tbody>\n",
       "</table>\n",
       "<p>1 rows × 25 columns</p>\n",
       "</div>"
      ],
      "text/plain": [
       "       Application_Number Disbursement_Manner Submission_Mth    MG_OMV  \\\n",
       "33911                8249               LS           2018-04  247000.0   \n",
       "\n",
       "         MG_SnP  highest_MG_SnP_OMV Free_Lease_Hold_Ind Status_Of_Completion  \\\n",
       "33911  127000.0            247000.0                   L                   CO   \n",
       "\n",
       "       Stage_Of_Completion Title_Type  ...  Postcode Property_State  \\\n",
       "33911                100.0          M  ...     47820            NaN   \n",
       "\n",
       "             City_Nm Property_Description Property_Type Residential_Type  \\\n",
       "33911  PETALING JAYA    APARTMENT UNIT(S)     Apartment   1. Residential   \n",
       "\n",
       "      Landed_Type Postcode_processed Property_State_processed  \\\n",
       "33911  Non-Landed            47820.0                     None   \n",
       "\n",
       "      City_Nm_processed  \n",
       "33911     PETALING JAYA  \n",
       "\n",
       "[1 rows x 25 columns]"
      ]
     },
     "execution_count": 10,
     "metadata": {},
     "output_type": "execute_result"
    }
   ],
   "source": [
    "#Property State only have 1 missing value. We manually look into this and estimate the corresponding City Name and Postcode\n",
    "df.loc[(df['Property_State_processed'].isnull())]"
   ]
  },
  {
   "cell_type": "code",
   "execution_count": 11,
   "metadata": {},
   "outputs": [],
   "source": [
    "#This City is in Petaling Jaya. Hence, we can manually fill this as SELANGOR\n",
    "df.loc[(df['Property_State_processed'].isnull()),'Property_State']='SELANGOR'\n",
    "df['Property_State_processed'].fillna('SELANGOR',inplace=True)"
   ]
  },
  {
   "cell_type": "code",
   "execution_count": 12,
   "metadata": {},
   "outputs": [],
   "source": [
    "# Now we have no missing values for Property State. We will use this to estimate the corresponding missing values for city name & postcode.\n",
    "#We will estimate missing city names with mode occurance groupby Property_State & City Name\n",
    "df_mode_city=df.groupby(['Property_State_processed','City_Nm_processed'], as_index=False).agg({'Application_Number':'count'})\n",
    "df_mode_city.sort_values(by=['Application_Number'],ascending=[False],inplace=True)\n",
    "df_mode_city.drop_duplicates(subset=['Property_State_processed'],keep='first',inplace=True)\n",
    "df_mode_city=df_mode_city[['Property_State_processed','City_Nm_processed']]\n",
    "df_mode_city.rename(columns={'City_Nm_processed':'City_Nm_estimated'},inplace=True)\n",
    "\n",
    "#join estimated city column into main dataframe\n",
    "df=pd.merge(df,df_mode_city,how='left',left_on=['Property_State_processed'],right_on=['Property_State_processed'])"
   ]
  },
  {
   "cell_type": "code",
   "execution_count": 13,
   "metadata": {},
   "outputs": [],
   "source": [
    "#We will estimate missing postcode with mode occurance groupby City Name & Postcode\n",
    "df_mode_postcode=df.groupby(['City_Nm_estimated','Postcode_processed'], as_index=False).agg({'Application_Number':'count'})\n",
    "df_mode_postcode.sort_values(by=['Application_Number'],ascending=[False],inplace=True)\n",
    "df_mode_postcode.drop_duplicates(subset=['City_Nm_estimated'],keep='first',inplace=True)\n",
    "df_mode_postcode=df_mode_postcode[['City_Nm_estimated','Postcode_processed']]\n",
    "df_mode_postcode.rename(columns={'Postcode_processed':'Postcode_estimated'},inplace=True)\n",
    "\n",
    "#join estimated postcode column into main dataframe\n",
    "df=pd.merge(df,df_mode_postcode,how='left',left_on=['City_Nm_estimated'],right_on=['City_Nm_estimated'])"
   ]
  },
  {
   "cell_type": "code",
   "execution_count": 14,
   "metadata": {},
   "outputs": [],
   "source": [
    "#fill missing city and postcode with estimated values\n",
    "df['City_Nm_processed'].fillna(df['City_Nm_estimated'],inplace=True)\n",
    "df['Postcode_processed'].fillna(df['Postcode_estimated'],inplace=True)"
   ]
  },
  {
   "cell_type": "code",
   "execution_count": 15,
   "metadata": {},
   "outputs": [
    {
     "name": "stdout",
     "output_type": "stream",
     "text": [
      "<class 'pandas.core.frame.DataFrame'>\n",
      "Int64Index: 135766 entries, 0 to 135765\n",
      "Data columns (total 27 columns):\n",
      " #   Column                    Non-Null Count   Dtype  \n",
      "---  ------                    --------------   -----  \n",
      " 0   Application_Number        135766 non-null  int64  \n",
      " 1   Disbursement_Manner       135766 non-null  object \n",
      " 2   Submission_Mth            135766 non-null  object \n",
      " 3   MG_OMV                    135766 non-null  float64\n",
      " 4   MG_SnP                    130578 non-null  float64\n",
      " 5   highest_MG_SnP_OMV        135766 non-null  float64\n",
      " 6   Free_Lease_Hold_Ind       135762 non-null  object \n",
      " 7   Status_Of_Completion      135766 non-null  object \n",
      " 8   Stage_Of_Completion       135759 non-null  float64\n",
      " 9   Title_Type                135581 non-null  object \n",
      " 10  Build_Up_Area             134396 non-null  float64\n",
      " 11  Build_Up_Area_Unit        91372 non-null   object \n",
      " 12  Land_Area                 135766 non-null  float64\n",
      " 13  Land_Area_Unit            69133 non-null   object \n",
      " 14  Property_Address          135761 non-null  object \n",
      " 15  Postcode                  135766 non-null  object \n",
      " 16  Property_State            135766 non-null  object \n",
      " 17  City_Nm                   135734 non-null  object \n",
      " 18  Property_Description      135766 non-null  object \n",
      " 19  Property_Type             135766 non-null  object \n",
      " 20  Residential_Type          135766 non-null  object \n",
      " 21  Landed_Type               135766 non-null  object \n",
      " 22  Postcode_processed        135766 non-null  float64\n",
      " 23  Property_State_processed  135766 non-null  object \n",
      " 24  City_Nm_processed         135766 non-null  object \n",
      " 25  City_Nm_estimated         135766 non-null  object \n",
      " 26  Postcode_estimated        135766 non-null  float64\n",
      "dtypes: float64(8), int64(1), object(18)\n",
      "memory usage: 29.0+ MB\n"
     ]
    }
   ],
   "source": [
    "df.info()"
   ]
  },
  {
   "cell_type": "code",
   "execution_count": 16,
   "metadata": {},
   "outputs": [],
   "source": [
    "#convert dtypes for postcode to int\n",
    "df['Postcode_processed']=df['Postcode_processed'].astype(int)"
   ]
  },
  {
   "cell_type": "code",
   "execution_count": 17,
   "metadata": {},
   "outputs": [],
   "source": [
    "#we have <1% of missing values in Free_Lease_Hold_Ind & Title Type , we can just use mode as our categorical estimation\n",
    "df['Free_Lease_Hold_Ind'].fillna(df['Free_Lease_Hold_Ind'].mode()[0], inplace=True)\n",
    "df['Title_Type'].fillna(df['Title_Type'].mode()[0], inplace=True)\n",
    "\n",
    "#we have inconsistent data between completion status & stage of completion, we made an assumption that sometimes user only update one of the field.\n",
    "#we overwrite CO status is <100% stage of completion to 100% and change the status of UC with 100% completion to CO\n",
    "df.loc[(df['Status_Of_Completion']=='CO'),'Stage_Of_Completion']=100\n",
    "df.loc[(df['Stage_Of_Completion']==100),'Status_Of_Completion']='CO'\n",
    "\n",
    "#Mode of UC stage is 0%, hence we will fill the missing values under UC status as 0% completion\n",
    "df['Stage_Of_Completion'].fillna(0,inplace=True)"
   ]
  },
  {
   "cell_type": "markdown",
   "metadata": {},
   "source": [
    "# Feature Engineering"
   ]
  },
  {
   "cell_type": "code",
   "execution_count": 18,
   "metadata": {},
   "outputs": [],
   "source": [
    "#we create a new feature which indicate submission_age from the existing Submission_Mth which is more representative and scalable when we pass it to the model\n",
    "df['submission_year']=df['Submission_Mth'].apply(lambda x: x[:4]).astype(int)\n",
    "df['submission_month']=df['Submission_Mth'].apply(lambda x: x[-2:]).astype(int)\n",
    "df['submission_age']=(datetime.datetime.today().year-df['submission_year'])*12+(datetime.datetime.today().month-df['submission_month'])"
   ]
  },
  {
   "cell_type": "code",
   "execution_count": 19,
   "metadata": {},
   "outputs": [],
   "source": [
    "# There are no missing values in MG_OMV column but there are values which are 0 i,e illogical. We will use MG_SnP to overwrite illogical values as our estimation.\n",
    "df.loc[(df['MG_OMV']==0),'MG_OMV']=df['MG_SnP']"
   ]
  },
  {
   "cell_type": "code",
   "execution_count": 20,
   "metadata": {},
   "outputs": [],
   "source": [
    "# generate a column as total build up area in sqft\n",
    "df['Land_Area']=df['Land_Area']*10.764\n",
    "df['total_build_up_area']=df[['Build_Up_Area', 'Land_Area']].max(axis=1)\n",
    "df['total_build_up_area'].replace(0, np.nan, inplace=True)"
   ]
  },
  {
   "cell_type": "code",
   "execution_count": 21,
   "metadata": {},
   "outputs": [],
   "source": [
    "#Further create another feature of price psf\n",
    "df['price_psf']=df['MG_OMV']/df['total_build_up_area']"
   ]
  },
  {
   "cell_type": "code",
   "execution_count": 22,
   "metadata": {},
   "outputs": [
    {
     "data": {
      "text/plain": [
       "<matplotlib.axes._subplots.AxesSubplot at 0x166e4460a90>"
      ]
     },
     "execution_count": 22,
     "metadata": {},
     "output_type": "execute_result"
    },
    {
     "data": {
      "image/png": "[encoded data removed]",
      "text/plain": [
       "<Figure size 432x288 with 1 Axes>"
      ]
     },
     "metadata": {
      "needs_background": "light"
     },
     "output_type": "display_data"
    }
   ],
   "source": [
    "#we have small amount of outlier with extremely high psf/ extremely low psf\n",
    "df.plot.scatter(x='total_build_up_area', y='MG_OMV')"
   ]
  },
  {
   "cell_type": "code",
   "execution_count": 23,
   "metadata": {},
   "outputs": [
    {
     "name": "stdout",
     "output_type": "stream",
     "text": [
      "number of outlier rows removed: 5\n"
     ]
    }
   ],
   "source": [
    "#1st fillna with 0\n",
    "df['price_psf'].fillna(0,inplace=True)\n",
    "\n",
    "#Using z-score to remove the outliers (2 standard deviations above the mean)\n",
    "df['z_score'] = (df['price_psf'] - df['price_psf'].mean())/df['price_psf'].std(ddof=0)\n",
    "old_len=len(df)\n",
    "df = df.loc[df['z_score'].abs()<=2]\n",
    "new_len=len(df)\n",
    "\n",
    "o_rows = old_len - new_len\n",
    "print('number of outlier rows removed: {}'.format(o_rows))"
   ]
  },
  {
   "cell_type": "code",
   "execution_count": 24,
   "metadata": {},
   "outputs": [
    {
     "data": {
      "text/plain": [
       "2"
      ]
     },
     "execution_count": 24,
     "metadata": {},
     "output_type": "execute_result"
    }
   ],
   "source": [
    "#find average price psf by city as an estimation for missing price psf\n",
    "avg_price_by_city=df.loc[(df['price_psf']>0)]\n",
    "avg_price_by_city=avg_price_by_city.groupby(['City_Nm_processed'], as_index=False).agg({'price_psf':'mean'})\n",
    "avg_price_by_city.rename(columns={'price_psf':'price_psf_estimated'},inplace=True)\n",
    "#join estimated city column into main dataframe\n",
    "df=pd.merge(df,avg_price_by_city,how='left',left_on=['City_Nm_processed'],right_on=['City_Nm_processed'])\n",
    "\n",
    "#fill missing values of price psf with price_psf_estimated\n",
    "df.loc[df['price_psf']==0,'price_psf']=df['price_psf_estimated']\n",
    "\n",
    "#let's see how many missing values we failed to get rid of by using the city estimation approach\n",
    "df['price_psf'].isna().sum()"
   ]
  },
  {
   "cell_type": "code",
   "execution_count": 25,
   "metadata": {},
   "outputs": [],
   "source": [
    "#we use a bigger cluster for further estimation of the 2 values we failed to get rid of using city estimation\n",
    "avg_price_by_state=df.loc[(df['price_psf']>0)]\n",
    "avg_price_by_state=avg_price_by_state.groupby(['Property_State_processed'], as_index=False).agg({'price_psf':'mean'})\n",
    "avg_price_by_state.rename(columns={'price_psf':'price_psf_estimated2'},inplace=True)\n",
    "#join estimated city column into main dataframe\n",
    "df=pd.merge(df,avg_price_by_state,how='left',left_on=['Property_State_processed'],right_on=['Property_State_processed'])\n",
    "\n",
    "#fill missing values of price psf with price_psf_estimated\n",
    "df['price_psf'].fillna(df['price_psf_estimated2'],inplace=True)"
   ]
  },
  {
   "cell_type": "code",
   "execution_count": 26,
   "metadata": {},
   "outputs": [],
   "source": [
    "# now we have all price psf for every property records, so we estimated total build up missing values base on MG_OMV/price_psf\n",
    "df.loc[df['total_build_up_area'].isnull(),'total_build_up_area']=df['MG_OMV']/df['price_psf']\n",
    "\n",
    "# estimate missing MG OMV using price_psf*total_build_up_area\n",
    "df.loc[df['MG_OMV'].isnull(),'MG_OMV']=df['price_psf']*df['total_build_up_area']"
   ]
  },
  {
   "cell_type": "code",
   "execution_count": 27,
   "metadata": {},
   "outputs": [],
   "source": [
    "#Select features and target columns with Application_Number(for test set tracking purpose)\n",
    "main=df[['Application_Number','Disbursement_Manner','submission_age','MG_OMV','price_psf','Free_Lease_Hold_Ind','Status_Of_Completion','Stage_Of_Completion','Title_Type','total_build_up_area','Property_Type','Residential_Type','Landed_Type','Postcode_processed','Property_State_processed','City_Nm_processed']]"
   ]
  },
  {
   "cell_type": "code",
   "execution_count": 28,
   "metadata": {},
   "outputs": [
    {
     "data": {
      "text/plain": [
       "Application_Number          0\n",
       "Disbursement_Manner         0\n",
       "submission_age              0\n",
       "MG_OMV                      0\n",
       "price_psf                   0\n",
       "Free_Lease_Hold_Ind         0\n",
       "Status_Of_Completion        0\n",
       "Stage_Of_Completion         0\n",
       "Title_Type                  0\n",
       "total_build_up_area         0\n",
       "Property_Type               0\n",
       "Residential_Type            0\n",
       "Landed_Type                 0\n",
       "Postcode_processed          0\n",
       "Property_State_processed    0\n",
       "City_Nm_processed           0\n",
       "dtype: int64"
      ]
     },
     "execution_count": 28,
     "metadata": {},
     "output_type": "execute_result"
    }
   ],
   "source": [
    "#check any missing values on features column\n",
    "main.isna().sum()"
   ]
  },
  {
   "cell_type": "code",
   "execution_count": 29,
   "metadata": {},
   "outputs": [],
   "source": [
    "#Output Cleaned dataset\n",
    "main.to_csv(r'C:\\Users\\rongshiu\\Desktop\\Python\\cleaned_dataset.csv',index=False)"
   ]
  },
  {
   "cell_type": "markdown",
   "metadata": {},
   "source": [
    "# Feature Analysis & Visualization"
   ]
  },
  {
   "cell_type": "code",
   "execution_count": 30,
   "metadata": {},
   "outputs": [
    {
     "data": {
      "text/plain": [
       "Text(0.5, 0, 'City Name')"
      ]
     },
     "execution_count": 30,
     "metadata": {},
     "output_type": "execute_result"
    },
    {
     "data": {
      "image/png": "[encoded data removed]",
      "text/plain": [
       "<Figure size 432x288 with 1 Axes>"
      ]
     },
     "metadata": {
      "needs_background": "light"
     },
     "output_type": "display_data"
    }
   ],
   "source": [
    "#Top 10 city by highest price psf\n",
    "plotdata = main.groupby(['City_Nm_processed'])['price_psf'].mean().reset_index()\n",
    "plotdata = plotdata.sort_values('price_psf',ascending=False).head(10).set_index('City_Nm_processed').plot.bar() \n",
    "plotdata.set_xlabel(\"City Name\")"
   ]
  },
  {
   "cell_type": "code",
   "execution_count": 31,
   "metadata": {},
   "outputs": [
    {
     "data": {
      "text/plain": [
       "Text(0.5, 0, 'City Name')"
      ]
     },
     "execution_count": 31,
     "metadata": {},
     "output_type": "execute_result"
    },
    {
     "data": {
      "image/png": "[encoded data removed]",
      "text/plain": [
       "<Figure size 432x288 with 1 Axes>"
      ]
     },
     "metadata": {
      "needs_background": "light"
     },
     "output_type": "display_data"
    }
   ],
   "source": [
    "#Bottom 10 city by Lowest price psf\n",
    "plotdata = main.groupby(['City_Nm_processed'])['price_psf'].mean().reset_index()\n",
    "plotdata = plotdata.sort_values('price_psf').head(10).set_index('City_Nm_processed').plot.bar() \n",
    "plotdata.set_xlabel(\"City Name\")"
   ]
  },
  {
   "cell_type": "code",
   "execution_count": 32,
   "metadata": {},
   "outputs": [
    {
     "data": {
      "text/plain": [
       "Text(0.5, 1.0, 'Histogram of Price PSF in Damansara Heights')"
      ]
     },
     "execution_count": 32,
     "metadata": {},
     "output_type": "execute_result"
    },
    {
     "data": {
      "image/png": "[encoded data removed]",
      "text/plain": [
       "<Figure size 432x288 with 1 Axes>"
      ]
     },
     "metadata": {
      "needs_background": "light"
     },
     "output_type": "display_data"
    }
   ],
   "source": [
    "#plot hist of price psf in Damansara Height\n",
    "sns.distplot(main.loc[main['City_Nm_processed'] == 'DAMANSARA HEIGHTS','price_psf'], hist=True, kde=True, \n",
    "             bins=int(180/5), color = 'darkblue', \n",
    "             hist_kws={'edgecolor':'black'},\n",
    "             kde_kws={'linewidth': 4}).set_title(\"Histogram of Price PSF in Damansara Heights\")"
   ]
  },
  {
   "cell_type": "code",
   "execution_count": 33,
   "metadata": {},
   "outputs": [
    {
     "data": {
      "image/png": "[encoded data removed]",
      "text/plain": [
       "<Figure size 1080x756 with 5 Axes>"
      ]
     },
     "metadata": {
      "needs_background": "light"
     },
     "output_type": "display_data"
    }
   ],
   "source": [
    "#price psf by submission_age\n",
    "plotdata = main.groupby(['City_Nm_processed','submission_age'])['price_psf'].mean().reset_index()\n",
    "\n",
    "fig, (ax1, ax2, ax3, ax4, ax5) = plt.subplots(5)\n",
    "fig.suptitle('Price PSF for Top 5 Cities over submission age')\n",
    "fig.set_size_inches(15, 10.5)\n",
    "\n",
    "ax1.plot(plotdata.loc[plotdata['City_Nm_processed'] == 'DAMANSARA HEIGHTS','submission_age'],plotdata.loc[plotdata['City_Nm_processed'] == 'DAMANSARA HEIGHTS','price_psf'],c='b',marker=\"^\",ls='--',fillstyle='none')\n",
    "ax2.plot(plotdata.loc[plotdata['City_Nm_processed'] == 'BANGSAR','submission_age'],plotdata.loc[plotdata['City_Nm_processed'] == 'BANGSAR','price_psf'],c='g',marker=(8,2,0),ls='--')\n",
    "ax3.plot(plotdata.loc[plotdata['City_Nm_processed'] == 'KOTA DAMANSARA','submission_age'],plotdata.loc[plotdata['City_Nm_processed'] == 'KOTA DAMANSARA','price_psf'],c='k',ls='-')\n",
    "ax4.plot(plotdata.loc[plotdata['City_Nm_processed'] == 'BANGSAR SOUTH','submission_age'],plotdata.loc[plotdata['City_Nm_processed'] == 'BANGSAR SOUTH','price_psf'],c='r',marker=\"v\",ls='-')\n",
    "ax5.plot(plotdata.loc[plotdata['City_Nm_processed'] == 'SUNWAY','submission_age'],plotdata.loc[plotdata['City_Nm_processed'] == 'SUNWAY','price_psf'],c='m',marker=\"o\",ls='--',fillstyle='none')\n",
    "\n",
    "ax1.set_ylabel('DAMANSARA HEIGHTS')\n",
    "ax2.set_ylabel('BANGSAR')\n",
    "ax3.set_ylabel('KOTA DAMANSARA')\n",
    "ax4.set_ylabel('BANGSAR SOUTH')\n",
    "ax5.set_ylabel('SUNWAY')\n",
    "\n",
    "ax1.invert_xaxis()\n",
    "ax2.invert_xaxis()\n",
    "ax3.invert_xaxis()\n",
    "ax4.invert_xaxis()\n",
    "ax5.invert_xaxis()\n",
    "\n",
    "plt.draw()"
   ]
  },
  {
   "cell_type": "code",
   "execution_count": 34,
   "metadata": {},
   "outputs": [
    {
     "data": {
      "text/plain": [
       "array([[<matplotlib.axes._subplots.AxesSubplot object at 0x00000166E69D82E8>,\n",
       "        <matplotlib.axes._subplots.AxesSubplot object at 0x00000166E69F84E0>,\n",
       "        <matplotlib.axes._subplots.AxesSubplot object at 0x00000166E674F208>],\n",
       "       [<matplotlib.axes._subplots.AxesSubplot object at 0x00000166E6774780>,\n",
       "        <matplotlib.axes._subplots.AxesSubplot object at 0x00000166E679ACF8>,\n",
       "        <matplotlib.axes._subplots.AxesSubplot object at 0x00000166E67CA2B0>],\n",
       "       [<matplotlib.axes._subplots.AxesSubplot object at 0x00000166E67F3828>,\n",
       "        <matplotlib.axes._subplots.AxesSubplot object at 0x00000166E6819DD8>,\n",
       "        <matplotlib.axes._subplots.AxesSubplot object at 0x00000166E6819E10>]],\n",
       "      dtype=object)"
      ]
     },
     "execution_count": 34,
     "metadata": {},
     "output_type": "execute_result"
    },
    {
     "data": {
      "image/png": "[encoded data removed]",
      "text/plain": [
       "<Figure size 648x504 with 9 Axes>"
      ]
     },
     "metadata": {
      "needs_background": "light"
     },
     "output_type": "display_data"
    }
   ],
   "source": [
    "# preview distribution of non categorical features\n",
    "main.hist(bins=10,figsize=(9,7),grid=False,color='green')"
   ]
  },
  {
   "cell_type": "code",
   "execution_count": 35,
   "metadata": {},
   "outputs": [
    {
     "name": "stdout",
     "output_type": "stream",
     "text": [
      "\n",
      "Skew in numerical features: \n",
      "\n"
     ]
    },
    {
     "data": {
      "text/html": [
       "<div>\n",
       "<style scoped>\n",
       "    .dataframe tbody tr th:only-of-type {\n",
       "        vertical-align: middle;\n",
       "    }\n",
       "\n",
       "    .dataframe tbody tr th {\n",
       "        vertical-align: top;\n",
       "    }\n",
       "\n",
       "    .dataframe thead th {\n",
       "        text-align: right;\n",
       "    }\n",
       "</style>\n",
       "<table border=\"1\" class=\"dataframe\">\n",
       "  <thead>\n",
       "    <tr style=\"text-align: right;\">\n",
       "      <th></th>\n",
       "      <th>Skew</th>\n",
       "    </tr>\n",
       "  </thead>\n",
       "  <tbody>\n",
       "    <tr>\n",
       "      <th>total_build_up_area</th>\n",
       "      <td>200.617743</td>\n",
       "    </tr>\n",
       "    <tr>\n",
       "      <th>price_psf</th>\n",
       "      <td>3.950595</td>\n",
       "    </tr>\n",
       "    <tr>\n",
       "      <th>submission_age</th>\n",
       "      <td>0.150573</td>\n",
       "    </tr>\n",
       "    <tr>\n",
       "      <th>Postcode_processed</th>\n",
       "      <td>-0.217474</td>\n",
       "    </tr>\n",
       "    <tr>\n",
       "      <th>Stage_Of_Completion</th>\n",
       "      <td>-0.449567</td>\n",
       "    </tr>\n",
       "  </tbody>\n",
       "</table>\n",
       "</div>"
      ],
      "text/plain": [
       "                           Skew\n",
       "total_build_up_area  200.617743\n",
       "price_psf              3.950595\n",
       "submission_age         0.150573\n",
       "Postcode_processed    -0.217474\n",
       "Stage_Of_Completion   -0.449567"
      ]
     },
     "execution_count": 35,
     "metadata": {},
     "output_type": "execute_result"
    }
   ],
   "source": [
    "numeric_feats=main.dtypes[main.dtypes != \"object\"].index\n",
    "numeric_feats=numeric_feats[numeric_feats != 'Application_Number']\n",
    "numeric_feats=numeric_feats[numeric_feats != 'MG_OMV']\n",
    "# Check the skew of all numerical features\n",
    "skewed_feats = main[numeric_feats].apply(lambda x: skew(x.dropna())).sort_values(ascending=False)\n",
    "print(\"\\nSkew in numerical features: \\n\")\n",
    "skewness = pd.DataFrame({'Skew' :skewed_feats})\n",
    "skewness"
   ]
  },
  {
   "cell_type": "markdown",
   "metadata": {},
   "source": [
    "# Box Cox Transformation of (highly) skewed features"
   ]
  },
  {
   "cell_type": "code",
   "execution_count": 36,
   "metadata": {},
   "outputs": [
    {
     "name": "stdout",
     "output_type": "stream",
     "text": [
      "There are 2 skewed numerical features to Box Cox transform\n"
     ]
    }
   ],
   "source": [
    "skewness = skewness[abs(skewness) > 0.75].dropna()\n",
    "print(\"There are {} skewed numerical features to Box Cox transform\".format(skewness.shape[0]))\n",
    "\n",
    "skewed_features = skewness.index\n",
    "lam = 0.15\n",
    "for feature in skewed_features:\n",
    "    main[feature] = boxcox1p(main[feature], lam)"
   ]
  },
  {
   "cell_type": "markdown",
   "metadata": {},
   "source": [
    "# Categorical Encoding"
   ]
  },
  {
   "cell_type": "code",
   "execution_count": 37,
   "metadata": {},
   "outputs": [],
   "source": [
    "cat_features=['Disbursement_Manner','Free_Lease_Hold_Ind','Status_Of_Completion','Title_Type','Property_Type','Residential_Type','Landed_Type','Postcode_processed','Property_State_processed','City_Nm_processed']\n",
    "for cat_feature in cat_features:\n",
    "    main[cat_feature]=main[cat_feature].astype('category')\n",
    "    main[cat_feature]=main[cat_feature].cat.codes"
   ]
  },
  {
   "cell_type": "markdown",
   "metadata": {},
   "source": [
    "# Splitting data into train and test "
   ]
  },
  {
   "cell_type": "code",
   "execution_count": 38,
   "metadata": {},
   "outputs": [],
   "source": [
    "train,test=train_test_split(main, test_size=0.2,random_state=42)"
   ]
  },
  {
   "cell_type": "code",
   "execution_count": 39,
   "metadata": {},
   "outputs": [
    {
     "name": "stdout",
     "output_type": "stream",
     "text": [
      "(108608,) (108608, 13)\n"
     ]
    }
   ],
   "source": [
    "#exclude price_psf because price_psf is derived from target\n",
    "y_train = train['MG_OMV'].values\n",
    "X_train= train.drop(columns=['MG_OMV','Application_Number','price_psf']).values\n",
    "\n",
    "#verify shape of training data\n",
    "print(y_train.shape,X_train.shape)"
   ]
  },
  {
   "cell_type": "code",
   "execution_count": 40,
   "metadata": {},
   "outputs": [
    {
     "name": "stdout",
     "output_type": "stream",
     "text": [
      "(27153,) (27153, 13)\n"
     ]
    }
   ],
   "source": [
    "y_test = test['MG_OMV'].values\n",
    "y_test_application_number=test['Application_Number'].values\n",
    "X_test= test.drop(columns=['MG_OMV','Application_Number','price_psf']).values\n",
    "\n",
    "#verify shape of testing data\n",
    "print(y_test.shape,X_test.shape)"
   ]
  },
  {
   "cell_type": "code",
   "execution_count": 41,
   "metadata": {},
   "outputs": [
    {
     "data": {
      "image/png": "[encoded data removed]",
      "text/plain": [
       "<Figure size 864x648 with 2 Axes>"
      ]
     },
     "metadata": {
      "needs_background": "light"
     },
     "output_type": "display_data"
    }
   ],
   "source": [
    "#Correlation map to see how features are correlated with Target\n",
    "heatmap = train.corr()\n",
    "plt.subplots(figsize=(12,9))\n",
    "sns.heatmap(heatmap, cmap='Reds',xticklabels=True, yticklabels=True, annot=True,  annot_kws={\"size\": 7})\n",
    "\n",
    "#export heatmap to png\n",
    "results_path =r'C:\\Users\\rongshiu\\Desktop\\Python\\heatmap.png'\n",
    "plt.savefig(results_path,bbox_inches='tight')"
   ]
  },
  {
   "cell_type": "code",
   "execution_count": 42,
   "metadata": {},
   "outputs": [],
   "source": [
    "#Analyzing Target - MG_OMV"
   ]
  },
  {
   "cell_type": "code",
   "execution_count": 43,
   "metadata": {},
   "outputs": [
    {
     "name": "stdout",
     "output_type": "stream",
     "text": [
      "\n",
      " mu = 566570.09 and sigma = 501467.03\n",
      "\n"
     ]
    },
    {
     "data": {
      "image/png": "[encoded data removed]",
      "text/plain": [
       "<Figure size 432x288 with 1 Axes>"
      ]
     },
     "metadata": {
      "needs_background": "light"
     },
     "output_type": "display_data"
    },
    {
     "data": {
      "image/png": "[encoded data removed]",
      "text/plain": [
       "<Figure size 432x288 with 1 Axes>"
      ]
     },
     "metadata": {
      "needs_background": "light"
     },
     "output_type": "display_data"
    }
   ],
   "source": [
    "sns.distplot(train['MG_OMV'] , fit=norm);\n",
    "\n",
    "# Get the fitted parameters used by the function\n",
    "(mu, sigma) = norm.fit(train['MG_OMV'])\n",
    "print( '\\n mu = {:.2f} and sigma = {:.2f}\\n'.format(mu, sigma))\n",
    "\n",
    "#Now plot the distribution\n",
    "plt.legend(['Normal dist. ($\\mu=$ {:.2f} and $\\sigma=$ {:.2f} )'.format(mu, sigma)],\n",
    "            loc='best')\n",
    "plt.ylabel('Frequency')\n",
    "plt.title('MG_OMV distribution')\n",
    "\n",
    "#Get also the QQ-plot\n",
    "fig = plt.figure()\n",
    "res = stats.probplot(train['MG_OMV'], plot=plt)\n",
    "plt.show()"
   ]
  },
  {
   "cell_type": "code",
   "execution_count": 44,
   "metadata": {},
   "outputs": [],
   "source": [
    "#We conclude that the target is skewed to the right"
   ]
  },
  {
   "cell_type": "markdown",
   "metadata": {},
   "source": [
    "# Log-transformation of the target variable"
   ]
  },
  {
   "cell_type": "code",
   "execution_count": 45,
   "metadata": {},
   "outputs": [
    {
     "name": "stdout",
     "output_type": "stream",
     "text": [
      "\n",
      " mu = 13.03 and sigma = 0.65\n",
      "\n"
     ]
    },
    {
     "data": {
      "image/png": "[encoded data removed]",
      "text/plain": [
       "<Figure size 432x288 with 1 Axes>"
      ]
     },
     "metadata": {
      "needs_background": "light"
     },
     "output_type": "display_data"
    },
    {
     "data": {
      "image/png": "[encoded data removed]",
      "text/plain": [
       "<Figure size 432x288 with 1 Axes>"
      ]
     },
     "metadata": {
      "needs_background": "light"
     },
     "output_type": "display_data"
    }
   ],
   "source": [
    "#We use the numpy fuction log1p which  applies log(1+x) to all elements of the column\n",
    "train[\"MG_OMV\"] = np.log1p(train[\"MG_OMV\"])\n",
    "\n",
    "#Check the new distribution \n",
    "sns.distplot(train['MG_OMV'] , fit=norm);\n",
    "\n",
    "# Get the fitted parameters used by the function\n",
    "(mu, sigma) = norm.fit(train['MG_OMV'])\n",
    "print( '\\n mu = {:.2f} and sigma = {:.2f}\\n'.format(mu, sigma))\n",
    "\n",
    "#Now plot the distribution\n",
    "plt.legend(['Normal dist. ($\\mu=$ {:.2f} and $\\sigma=$ {:.2f} )'.format(mu, sigma)],\n",
    "            loc='best')\n",
    "plt.ylabel('Frequency')\n",
    "plt.title('MG_OMV distribution')\n",
    "\n",
    "#Get also the QQ-plot\n",
    "fig = plt.figure()\n",
    "res = stats.probplot(train['MG_OMV'], plot=plt)\n",
    "plt.show()"
   ]
  },
  {
   "cell_type": "markdown",
   "metadata": {},
   "source": [
    "# Modeling"
   ]
  },
  {
   "cell_type": "code",
   "execution_count": 46,
   "metadata": {},
   "outputs": [],
   "source": [
    "#Validation function\n",
    "n_folds = 5\n",
    "\n",
    "def rmsle_cv(model):\n",
    "    kf = KFold(n_folds, shuffle=True, random_state=42).get_n_splits(train.values)\n",
    "    rmse= np.sqrt(-cross_val_score(model, X_train, y_train, scoring=\"neg_mean_squared_error\", cv = kf))\n",
    "    return(rmse)"
   ]
  },
  {
   "cell_type": "markdown",
   "metadata": {},
   "source": [
    "# LASSO Regression\n",
    "This model may be very sensitive to outliers. So we need to made it more robust on them. For that we use the sklearn's Robustscaler() method on pipeline"
   ]
  },
  {
   "cell_type": "code",
   "execution_count": 47,
   "metadata": {},
   "outputs": [],
   "source": [
    "lasso = make_pipeline(RobustScaler(), Lasso(alpha =0.0005, random_state=42))"
   ]
  },
  {
   "cell_type": "markdown",
   "metadata": {},
   "source": [
    "# Elastic Net Regression\n",
    "again made robust to outliers"
   ]
  },
  {
   "cell_type": "code",
   "execution_count": 48,
   "metadata": {},
   "outputs": [],
   "source": [
    "ENet = make_pipeline(RobustScaler(), ElasticNet(alpha=0.0005, l1_ratio=.9, random_state=42))"
   ]
  },
  {
   "cell_type": "markdown",
   "metadata": {},
   "source": [
    "# Ridge Regression"
   ]
  },
  {
   "cell_type": "code",
   "execution_count": 49,
   "metadata": {},
   "outputs": [],
   "source": [
    "Ridge = Ridge(random_state=42)"
   ]
  },
  {
   "cell_type": "markdown",
   "metadata": {},
   "source": [
    "# Linear Regression"
   ]
  },
  {
   "cell_type": "code",
   "execution_count": 50,
   "metadata": {},
   "outputs": [],
   "source": [
    "lin_reg = LinearRegression(normalize=True)"
   ]
  },
  {
   "cell_type": "markdown",
   "metadata": {},
   "source": [
    "# Gradient Boosting Regression\n",
    "With huber loss that makes it robust to outliers"
   ]
  },
  {
   "cell_type": "code",
   "execution_count": 51,
   "metadata": {},
   "outputs": [],
   "source": [
    "GBoost = GradientBoostingRegressor(n_estimators=3000, learning_rate=0.05,\n",
    "                                   max_depth=4, max_features='sqrt',\n",
    "                                   min_samples_leaf=15, min_samples_split=10, \n",
    "                                   loss='huber', random_state =5)"
   ]
  },
  {
   "cell_type": "markdown",
   "metadata": {},
   "source": [
    "# XGBoost"
   ]
  },
  {
   "cell_type": "code",
   "execution_count": 52,
   "metadata": {},
   "outputs": [],
   "source": [
    "model_xgb = xgb.XGBRegressor(colsample_bytree=0.4603, gamma=0.0468, \n",
    "                             learning_rate=0.05, max_depth=3, \n",
    "                             min_child_weight=1.7817, n_estimators=2200,\n",
    "                             reg_alpha=0.4640, reg_lambda=0.8571,\n",
    "                             subsample=0.5213, random_state =42, nthread = -1)"
   ]
  },
  {
   "cell_type": "markdown",
   "metadata": {},
   "source": [
    "# LightGBM"
   ]
  },
  {
   "cell_type": "code",
   "execution_count": 53,
   "metadata": {},
   "outputs": [],
   "source": [
    "model_lgb = lgb.LGBMRegressor(objective='regression',num_leaves=5,\n",
    "                              learning_rate=0.05, n_estimators=720,\n",
    "                              max_bin = 55, bagging_fraction = 0.8,\n",
    "                              bagging_freq = 10, feature_fraction = 0.23,\n",
    "                              feature_fraction_seed=9, bagging_seed=9,\n",
    "                              min_data_in_leaf =6)"
   ]
  },
  {
   "cell_type": "markdown",
   "metadata": {},
   "source": [
    "# Base models scores"
   ]
  },
  {
   "cell_type": "code",
   "execution_count": 54,
   "metadata": {},
   "outputs": [
    {
     "name": "stdout",
     "output_type": "stream",
     "text": [
      "\n",
      "lasso score: 0.4670 (0.0032)\n",
      "\n",
      "\n",
      "ENet score: 0.4670 (0.0032)\n",
      "\n",
      "\n",
      "Ridge score: 0.4670 (0.0032)\n",
      "\n",
      "\n",
      "lin_reg score: 0.4670 (0.0032)\n",
      "\n",
      "\n",
      "GBoost score: 0.2870 (0.0032)\n",
      "\n",
      "\n",
      "model_xgb score: 0.3109 (0.0033)\n",
      "\n",
      "[LightGBM] [Warning] feature_fraction is set=0.23, colsample_bytree=1.0 will be ignored. Current value: feature_fraction=0.23\n",
      "[LightGBM] [Warning] min_data_in_leaf is set=6, min_child_samples=20 will be ignored. Current value: min_data_in_leaf=6\n",
      "[LightGBM] [Warning] bagging_fraction is set=0.8, subsample=1.0 will be ignored. Current value: bagging_fraction=0.8\n",
      "[LightGBM] [Warning] bagging_freq is set=10, subsample_freq=0 will be ignored. Current value: bagging_freq=10\n",
      "[LightGBM] [Warning] feature_fraction is set=0.23, colsample_bytree=1.0 will be ignored. Current value: feature_fraction=0.23\n",
      "[LightGBM] [Warning] min_data_in_leaf is set=6, min_child_samples=20 will be ignored. Current value: min_data_in_leaf=6\n",
      "[LightGBM] [Warning] bagging_fraction is set=0.8, subsample=1.0 will be ignored. Current value: bagging_fraction=0.8\n",
      "[LightGBM] [Warning] bagging_freq is set=10, subsample_freq=0 will be ignored. Current value: bagging_freq=10\n",
      "[LightGBM] [Warning] feature_fraction is set=0.23, colsample_bytree=1.0 will be ignored. Current value: feature_fraction=0.23\n",
      "[LightGBM] [Warning] min_data_in_leaf is set=6, min_child_samples=20 will be ignored. Current value: min_data_in_leaf=6\n",
      "[LightGBM] [Warning] bagging_fraction is set=0.8, subsample=1.0 will be ignored. Current value: bagging_fraction=0.8\n",
      "[LightGBM] [Warning] bagging_freq is set=10, subsample_freq=0 will be ignored. Current value: bagging_freq=10\n",
      "[LightGBM] [Warning] feature_fraction is set=0.23, colsample_bytree=1.0 will be ignored. Current value: feature_fraction=0.23\n",
      "[LightGBM] [Warning] min_data_in_leaf is set=6, min_child_samples=20 will be ignored. Current value: min_data_in_leaf=6\n",
      "[LightGBM] [Warning] bagging_fraction is set=0.8, subsample=1.0 will be ignored. Current value: bagging_fraction=0.8\n",
      "[LightGBM] [Warning] bagging_freq is set=10, subsample_freq=0 will be ignored. Current value: bagging_freq=10\n",
      "[LightGBM] [Warning] feature_fraction is set=0.23, colsample_bytree=1.0 will be ignored. Current value: feature_fraction=0.23\n",
      "[LightGBM] [Warning] min_data_in_leaf is set=6, min_child_samples=20 will be ignored. Current value: min_data_in_leaf=6\n",
      "[LightGBM] [Warning] bagging_fraction is set=0.8, subsample=1.0 will be ignored. Current value: bagging_fraction=0.8\n",
      "[LightGBM] [Warning] bagging_freq is set=10, subsample_freq=0 will be ignored. Current value: bagging_freq=10\n",
      "\n",
      "model_lgb score: 0.3630 (0.0031)\n",
      "\n"
     ]
    }
   ],
   "source": [
    "models=[lasso,ENet,Ridge,lin_reg,GBoost,model_xgb,model_lgb]\n",
    "models_name=['lasso','ENet','Ridge','lin_reg','GBoost','model_xgb','model_lgb']\n",
    "for i,model in enumerate(models):\n",
    "    score = rmsle_cv(model)\n",
    "    print(\"\\n{} score: {:.4f} ({:.4f})\\n\".format(models_name[i],score.mean(), score.std()))"
   ]
  },
  {
   "cell_type": "markdown",
   "metadata": {},
   "source": [
    "# Stacking Models\n",
    "#Stacking approach : Averaging base model"
   ]
  },
  {
   "cell_type": "code",
   "execution_count": 55,
   "metadata": {},
   "outputs": [],
   "source": [
    "class AveragingModels(BaseEstimator, RegressorMixin, TransformerMixin):\n",
    "    def __init__(self, models):\n",
    "        self.models = models\n",
    "        \n",
    "    # we define clones of the original models to fit the data in\n",
    "    def fit(self, X, y):\n",
    "        self.models_ = [clone(x) for x in self.models]\n",
    "        \n",
    "        # Train cloned base models\n",
    "        for model in self.models_:\n",
    "            model.fit(X, y)\n",
    "\n",
    "        return self\n",
    "    \n",
    "    #Now we do the predictions for cloned models and average them\n",
    "    def predict(self, X):\n",
    "        predictions = np.column_stack([model.predict(X) for model in self.models_])\n",
    "        return np.mean(predictions, axis=1) "
   ]
  },
  {
   "cell_type": "code",
   "execution_count": 56,
   "metadata": {},
   "outputs": [
    {
     "name": "stdout",
     "output_type": "stream",
     "text": [
      " Averaged base models score: 0.4018 (0.0031)\n",
      "\n"
     ]
    }
   ],
   "source": [
    "averaged_models = AveragingModels(models = (lasso, ENet, GBoost, lin_reg))\n",
    "\n",
    "score = rmsle_cv(averaged_models)\n",
    "print(\" Averaged base models score: {:.4f} ({:.4f})\\n\".format(score.mean(), score.std()))"
   ]
  },
  {
   "cell_type": "markdown",
   "metadata": {},
   "source": [
    "# 2nd Stacking Approach: Adding a Meta-model\n",
    "In this approach, we add a meta-model on averaged base models and use the out-of-folds predictions of these base models to train our meta-model.\n",
    "\n",
    "The procedure, for the training part, may be described as follows:\n",
    "\n",
    "Split the total training set into two disjoint sets (here train and .holdout )\n",
    "\n",
    "Train several base models on the first part (train)\n",
    "\n",
    "Test these base models on the second part (holdout)\n",
    "\n",
    "Use the predictions from 3) (called out-of-folds predictions) as the inputs, and the correct responses (target variable) as the outputs to train a higher level learner called meta-model.\n",
    "\n",
    "The first three steps are done iteratively . If we take for example a 5-fold stacking , we first split the training data into 5 folds. Then we will do 5 iterations. In each iteration, we train every base model on 4 folds and predict on the remaining fold (holdout fold).\n",
    "\n",
    "So, we will be sure, after 5 iterations , that the entire data is used to get out-of-folds predictions that we will then use as new feature to train our meta-model in the step 4.\n",
    "\n",
    "For the prediction part , We average the predictions of all base models on the test data and used them as meta-features on which, the final prediction is done with the meta-model."
   ]
  },
  {
   "cell_type": "code",
   "execution_count": 57,
   "metadata": {},
   "outputs": [],
   "source": [
    "class StackingAveragedModels(BaseEstimator, RegressorMixin, TransformerMixin):\n",
    "    def __init__(self, base_models, meta_model, n_folds=5):\n",
    "        self.base_models = base_models\n",
    "        self.meta_model = meta_model\n",
    "        self.n_folds = n_folds\n",
    "   \n",
    "    # We again fit the data on clones of the original models\n",
    "    def fit(self, X, y):\n",
    "        self.base_models_ = [list() for x in self.base_models]\n",
    "        self.meta_model_ = clone(self.meta_model)\n",
    "        kfold = KFold(n_splits=self.n_folds, shuffle=True, random_state=156)\n",
    "        \n",
    "        # Train cloned base models then create out-of-fold predictions\n",
    "        # that are needed to train the cloned meta-model\n",
    "        out_of_fold_predictions = np.zeros((X.shape[0], len(self.base_models)))\n",
    "        for i, model in enumerate(self.base_models):\n",
    "            for train_index, holdout_index in kfold.split(X, y):\n",
    "                instance = clone(model)\n",
    "                self.base_models_[i].append(instance)\n",
    "                instance.fit(X[train_index], y[train_index])\n",
    "                y_pred = instance.predict(X[holdout_index])\n",
    "                out_of_fold_predictions[holdout_index, i] = y_pred\n",
    "                \n",
    "        # Now train the cloned  meta-model using the out-of-fold predictions as new feature\n",
    "        self.meta_model_.fit(out_of_fold_predictions, y)\n",
    "        return self\n",
    "   \n",
    "    #Do the predictions of all base models on the test data and use the averaged predictions as \n",
    "    #meta-features for the final prediction which is done by the meta-model\n",
    "    def predict(self, X):\n",
    "        meta_features = np.column_stack([\n",
    "            np.column_stack([model.predict(X) for model in base_models]).mean(axis=1)\n",
    "            for base_models in self.base_models_ ])\n",
    "        return self.meta_model_.predict(meta_features)"
   ]
  },
  {
   "cell_type": "code",
   "execution_count": 58,
   "metadata": {},
   "outputs": [
    {
     "name": "stdout",
     "output_type": "stream",
     "text": [
      "Stacking Averaged models score: 0.2865 (0.0031)\n"
     ]
    }
   ],
   "source": [
    "stacked_averaged_models = StackingAveragedModels(base_models = (ENet, lin_reg, GBoost), meta_model = lasso)\n",
    "\n",
    "score = rmsle_cv(stacked_averaged_models)\n",
    "print(\"Stacking Averaged models score: {:.4f} ({:.4f})\".format(score.mean(), score.std()))"
   ]
  },
  {
   "cell_type": "markdown",
   "metadata": {},
   "source": [
    "# Ensembling StackedRegressor, XGBoost and LightGBM\n",
    "We add XGBoost and LightGBM to the StackedRegressor defined previously.\n",
    "\n",
    "We first define a rmsle evaluation function"
   ]
  },
  {
   "cell_type": "code",
   "execution_count": 59,
   "metadata": {},
   "outputs": [],
   "source": [
    "def rmsle(y, y_pred):\n",
    "    return np.sqrt(mean_squared_error(y, y_pred))"
   ]
  },
  {
   "cell_type": "markdown",
   "metadata": {},
   "source": [
    "# StackedRegressor"
   ]
  },
  {
   "cell_type": "code",
   "execution_count": 60,
   "metadata": {},
   "outputs": [
    {
     "name": "stdout",
     "output_type": "stream",
     "text": [
      "0.27461013575473614\n"
     ]
    }
   ],
   "source": [
    "stacked_averaged_models.fit(X_train, y_train)\n",
    "stacked_train_pred = stacked_averaged_models.predict(X_train)\n",
    "stacked_pred = np.expm1(stacked_averaged_models.predict(X_test))\n",
    "print(rmsle(y_train, stacked_train_pred))"
   ]
  },
  {
   "cell_type": "markdown",
   "metadata": {},
   "source": [
    "# XGBoost"
   ]
  },
  {
   "cell_type": "code",
   "execution_count": 61,
   "metadata": {},
   "outputs": [
    {
     "name": "stdout",
     "output_type": "stream",
     "text": [
      "0.3044330562299694\n"
     ]
    }
   ],
   "source": [
    "model_xgb.fit(X_train, y_train)\n",
    "xgb_train_pred = model_xgb.predict(X_train)\n",
    "xgb_pred = np.expm1(model_xgb.predict(X_test))\n",
    "print(rmsle(y_train, xgb_train_pred))"
   ]
  },
  {
   "cell_type": "markdown",
   "metadata": {},
   "source": [
    "# LightGBM"
   ]
  },
  {
   "cell_type": "code",
   "execution_count": 62,
   "metadata": {},
   "outputs": [
    {
     "name": "stdout",
     "output_type": "stream",
     "text": [
      "[LightGBM] [Warning] feature_fraction is set=0.23, colsample_bytree=1.0 will be ignored. Current value: feature_fraction=0.23\n",
      "[LightGBM] [Warning] min_data_in_leaf is set=6, min_child_samples=20 will be ignored. Current value: min_data_in_leaf=6\n",
      "[LightGBM] [Warning] bagging_fraction is set=0.8, subsample=1.0 will be ignored. Current value: bagging_fraction=0.8\n",
      "[LightGBM] [Warning] bagging_freq is set=10, subsample_freq=0 will be ignored. Current value: bagging_freq=10\n",
      "0.3619222417694392\n"
     ]
    }
   ],
   "source": [
    "model_lgb.fit(X_train, y_train)\n",
    "lgb_train_pred = model_lgb.predict(X_train)\n",
    "lgb_pred = np.expm1(model_lgb.predict(X_test))\n",
    "print(rmsle(y_train, lgb_train_pred))"
   ]
  },
  {
   "cell_type": "code",
   "execution_count": 63,
   "metadata": {},
   "outputs": [
    {
     "name": "stdout",
     "output_type": "stream",
     "text": [
      "RMSLE score on train data:\n",
      "0.283450231028026\n"
     ]
    }
   ],
   "source": [
    "#RMSE on the entire Train data when averaging\n",
    "print('RMSLE score on train data:')\n",
    "print(rmsle(y_train,stacked_train_pred*0.70+xgb_train_pred*0.15 +lgb_train_pred*0.15 ))"
   ]
  },
  {
   "cell_type": "markdown",
   "metadata": {},
   "source": [
    "# Ensembling & Final Prediction"
   ]
  },
  {
   "cell_type": "code",
   "execution_count": 64,
   "metadata": {},
   "outputs": [],
   "source": [
    "ensemble=stacked_pred*0.70+xgb_pred*0.15+lgb_pred*0.15"
   ]
  },
  {
   "cell_type": "markdown",
   "metadata": {},
   "source": [
    "# y_test Prediction RMSE & Results output"
   ]
  },
  {
   "cell_type": "code",
   "execution_count": 65,
   "metadata": {},
   "outputs": [
    {
     "name": "stdout",
     "output_type": "stream",
     "text": [
      "311468.37570751255\n"
     ]
    }
   ],
   "source": [
    "print(rmsle(y_test,ensemble))\n",
    "\n",
    "output = pd.DataFrame()\n",
    "output['Application_Number']=y_test_application_number\n",
    "output['y_test'] = y_test\n",
    "output['prediction'] = ensemble\n",
    "output.to_csv(r'C:\\Users\\rongshiu\\Desktop\\Python\\output.csv',index=False)"
   ]
  }
 ],
 "metadata": {
  "kernelspec": {
   "display_name": "Python 3",
   "language": "python",
   "name": "python3"
  },
  "language_info": {
   "codemirror_mode": {
    "name": "ipython",
    "version": 3
   },
   "file_extension": ".py",
   "mimetype": "text/x-python",
   "name": "python",
   "nbconvert_exporter": "python",
   "pygments_lexer": "ipython3",
   "version": "3.6.6"
  }
 },
 "nbformat": 4,
 "nbformat_minor": 4
}
